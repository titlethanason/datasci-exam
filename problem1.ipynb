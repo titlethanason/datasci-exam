{
 "cells": [
  {
   "cell_type": "markdown",
   "metadata": {},
   "source": [
    "## ข้อสอบปฏิบัติ: การคงอยู่ของพนักงานบริษัท\n",
    "\n",
    "บริษัทแห่งหนึ่งมีพนักงานลาออกเป็นจำนวนมากในช่วง 1 ปีที่ผ่านมา ผู้บริหารมีความกังวลและต้องการทราบถึงปัจจัยที่ส่งผลต่อการลาออกของพนักงาน จึงได้มอบหมายให้ท่านนำข้อมูลพนักงานมาวิเคราะห์และรายงานผล โดยฝ่ายบริหารงานบุคคลได้รวบรวมข้อมูลพนักงานจำนวน 1470 คนไว้ในไฟล์ `employee_quit.csv` ในไฟล์ดังกล่าวประกอบด้วยสถานะการลาออก ข้อมูลทั่วไป เช่น อายุ เพศ สาขาความเชี่ยวชาญ รวมถึงข้อมูลการงาน เช่น เงินเดือน ระยะเวลาที่ทำงานกับบริษัท ความพึงพอใจต่องาน การทำงานเกินเวลา เป็นต้น ท่านจะต้องนำไฟล์ดังกล่าวมาประมวลและวิเคราะห์ดังต่อไปนี้ด้วยภาษา Python\n",
    "\n",
    "### Part 1: นำเข้าข้อมูลจากไฟล์ .csv (1 คะแนน) \n",
    "\n",
    "(PC2.1) จงนำเข้าข้อมูลจากไฟล์ employee_quit.csv โดยใช้คำสั่งจากไลบรารี Pandas \n",
    "<br>**สำคัญ:** ให้เก็บข้อมูลในตัวแปรชื่อ `df`"
   ]
  },
  {
   "cell_type": "code",
   "execution_count": null,
   "metadata": {
    "deletable": false,
    "nbgrader": {
     "cell_type": "code",
     "checksum": "b69be2860e674737d8e399e459a6732a",
     "grade": false,
     "grade_id": "read_csv",
     "locked": false,
     "schema_version": 3,
     "solution": true,
     "task": false
    },
    "tags": []
   },
   "outputs": [],
   "source": [
    "# YOUR CODE HERE\n",
    "raise NotImplementedError()"
   ]
  },
  {
   "cell_type": "markdown",
   "metadata": {},
   "source": [
    "รันโค้ดต่อไปนี้เพื่อตรวจสอบความถูกต้องของตัวแปร `df` ของท่าน"
   ]
  },
  {
   "cell_type": "code",
   "execution_count": null,
   "metadata": {
    "deletable": false,
    "editable": false,
    "nbgrader": {
     "cell_type": "code",
     "checksum": "899155a18d362274a7fd8125f9449231",
     "grade": true,
     "grade_id": "read_csv_test",
     "locked": true,
     "points": 1,
     "schema_version": 3,
     "solution": false,
     "task": false
    },
    "tags": []
   },
   "outputs": [],
   "source": [
    "\"\"\"ตรวจสอบชนิดของตัวแปร df และจำนวนคอลัมน์ของข้อมูลในเบื้องต้น\"\"\"\n",
    "import pandas as pd\n",
    "assert isinstance(df, pd.DataFrame)\n",
    "assert len(df.columns) == 15"
   ]
  },
  {
   "cell_type": "markdown",
   "metadata": {},
   "source": [
    "---\n",
    "\n",
    "### Part 2: การสำรวจข้อมูล (6 คะแนน) \n",
    "\n",
    "(PC2.1) จงนำข้อมูลของพนักงาน 7 แรกใน `df` มาเก็บไว้ในตัวแปรชื่อ `df_top`  "
   ]
  },
  {
   "cell_type": "code",
   "execution_count": null,
   "metadata": {
    "deletable": false,
    "nbgrader": {
     "cell_type": "code",
     "checksum": "339e470115e4057ccf647611fafe4512",
     "grade": false,
     "grade_id": "df_top",
     "locked": false,
     "schema_version": 3,
     "solution": true,
     "task": false
    },
    "tags": []
   },
   "outputs": [],
   "source": [
    "# YOUR CODE HERE\n",
    "raise NotImplementedError()"
   ]
  },
  {
   "cell_type": "markdown",
   "metadata": {},
   "source": [
    "ตรวจสอบว่าตัวแปร `df_top` ของท่านเก็บข้อมูลที่ถูกต้อง:"
   ]
  },
  {
   "cell_type": "code",
   "execution_count": null,
   "metadata": {},
   "outputs": [],
   "source": [
    "df_top"
   ]
  },
  {
   "cell_type": "code",
   "execution_count": null,
   "metadata": {
    "deletable": false,
    "editable": false,
    "nbgrader": {
     "cell_type": "code",
     "checksum": "fa501fb5f669f2bb7211b6f243055d8f",
     "grade": true,
     "grade_id": "df_top_test",
     "locked": true,
     "points": 1,
     "schema_version": 3,
     "solution": false,
     "task": false
    },
    "tags": []
   },
   "outputs": [],
   "source": [
    "\"\"\"ตรวจสอบว่า df_top มี 7 แถว\"\"\"\n",
    "assert isinstance(df_top, pd.DataFrame)\n",
    "assert len(df_top) == 7"
   ]
  },
  {
   "cell_type": "markdown",
   "metadata": {
    "tags": []
   },
   "source": [
    "---\n",
    "\n",
    "(PC2.3) จากการตรวจสอบพบว่าคอลัมน์ `MonthlyIncome` ใน `df` มีข้อมูลสูญหาย (missing values) เป็นจำนวนมาก จง implement ฟังก์ชัน `count_missing_salary(df)` สำหรับนับจำนวนข้อมูลที่สูญหายในคอลัมน์ `MonthlyIncome` โดยฟังก์ชันจะต้อง return จำนวนข้อมูลที่สูญหาย \n",
    "\n",
    "**หมายเหตุ** ระบบจะตรวจสอบว่าฟังก์ชันของท่านมีการนับจริง หาก return เป็นค่าคงที่ ท่านจะไม่ได้คะแนน"
   ]
  },
  {
   "cell_type": "code",
   "execution_count": null,
   "metadata": {
    "deletable": false,
    "nbgrader": {
     "cell_type": "code",
     "checksum": "7a76485c975d105b139122cb5ad8d962",
     "grade": false,
     "grade_id": "count_miss",
     "locked": false,
     "schema_version": 3,
     "solution": true,
     "task": false
    },
    "tags": []
   },
   "outputs": [],
   "source": [
    "def count_missing_salary(df):\n",
    "    # YOUR CODE HERE\n",
    "    raise NotImplementedError()"
   ]
  },
  {
   "cell_type": "markdown",
   "metadata": {},
   "source": [
    "ตรวจสอบว่าฟังก์ชันสามารถนับจำนวนข้อมูลสูญหายได้ถูกต้อง"
   ]
  },
  {
   "cell_type": "code",
   "execution_count": null,
   "metadata": {},
   "outputs": [],
   "source": [
    "count_missing_salary(df)"
   ]
  },
  {
   "cell_type": "code",
   "execution_count": null,
   "metadata": {
    "deletable": false,
    "editable": false,
    "nbgrader": {
     "cell_type": "code",
     "checksum": "e7adfecd61a12a82e4ef0fdd26cd7bb8",
     "grade": true,
     "grade_id": "count_miss_test",
     "locked": true,
     "points": 2,
     "schema_version": 3,
     "solution": false,
     "task": false
    },
    "tags": []
   },
   "outputs": [],
   "source": [
    "assert count_missing_salary(df) == 57 "
   ]
  },
  {
   "cell_type": "markdown",
   "metadata": {},
   "source": [
    "---\n",
    "\n",
    "(PC1.2, 2.5) เนื่องจากข้อมูลในคอลัมน์ `MonthlyIncome` มีค่าผิดปกติ (outliers) บางค่า จง implement ฟังก์ชัน `find_outliers_iqr(df)` สำหรับหาค่าผิดปกติด้วยวิธี Interquartile Range (IQR) โดยฟังก์ชันจะต้อง return เป็น list ของค่าเงินเดือนที่ผิดปกติทั้งหมด \n",
    "\n",
    "**หมายเหตุ** ระบบจะตรวจสอบว่าฟังก์ชันของท่านมีการหาค่าผิดปกติจริง หาก return เป็น list ของค่าคงที่ ท่านจะไม่ได้คะแนน"
   ]
  },
  {
   "cell_type": "code",
   "execution_count": null,
   "metadata": {
    "deletable": false,
    "nbgrader": {
     "cell_type": "code",
     "checksum": "92db7d32fc9594f2067b407b56944ffe",
     "grade": false,
     "grade_id": "outlier",
     "locked": false,
     "schema_version": 3,
     "solution": true,
     "task": false
    },
    "tags": []
   },
   "outputs": [],
   "source": [
    "def find_outlier_iqr(df):\n",
    "    # YOUR CODE HERE\n",
    "    raise NotImplementedError()"
   ]
  },
  {
   "cell_type": "markdown",
   "metadata": {},
   "source": [
    "ตรวจสอบว่าฟังก์ชันสามารถหาค่าผิดปกติได้ถูกต้อง (แสดง 5 ค่าแรกที่พบ)"
   ]
  },
  {
   "cell_type": "code",
   "execution_count": null,
   "metadata": {},
   "outputs": [],
   "source": [
    "find_outlier_iqr(df)[:5]"
   ]
  },
  {
   "cell_type": "code",
   "execution_count": null,
   "metadata": {
    "deletable": false,
    "editable": false,
    "nbgrader": {
     "cell_type": "code",
     "checksum": "99f785d1574114f207f30e443298c869",
     "grade": true,
     "grade_id": "outlier_test",
     "locked": true,
     "points": 3,
     "schema_version": 3,
     "solution": false,
     "task": false
    },
    "tags": []
   },
   "outputs": [],
   "source": [
    "assert len(find_outlier_iqr(df)) == 90 "
   ]
  },
  {
   "cell_type": "markdown",
   "metadata": {},
   "source": [
    "---\n",
    "\n",
    "### Part 3: การทำความสะอาดข้อมูล (2 คะแนน) \n",
    "\n",
    "(PC2.3, 2.5) จงเติมค่าที่สูญหายในคอลัมน์ `MonthlyIncome` ของ `df` ด้วยค่าเงินเดือนเฉลี่ยของพนักงาน แล้วบันทึกข้อมูลที่เติมค่าสูญหายแล้วไว้ในตัวแปรชื่อ `df_filled`"
   ]
  },
  {
   "cell_type": "code",
   "execution_count": null,
   "metadata": {
    "deletable": false,
    "nbgrader": {
     "cell_type": "code",
     "checksum": "531db50ddb890f822ae6e13744771c44",
     "grade": false,
     "grade_id": "impute",
     "locked": false,
     "schema_version": 3,
     "solution": true,
     "task": false
    },
    "tags": []
   },
   "outputs": [],
   "source": [
    "# YOUR CODE HERE\n",
    "raise NotImplementedError()"
   ]
  },
  {
   "cell_type": "markdown",
   "metadata": {},
   "source": [
    "ตรวจสอบว่าข้อมูลเงินเดือนได้ถูกเติมด้วยค่าเฉลี่ยเรียบร้อย"
   ]
  },
  {
   "cell_type": "code",
   "execution_count": null,
   "metadata": {
    "deletable": false,
    "editable": false,
    "nbgrader": {
     "cell_type": "code",
     "checksum": "fcd32e75156e70b6e603856c7faadc1d",
     "grade": true,
     "grade_id": "impute_test",
     "locked": true,
     "points": 2,
     "schema_version": 3,
     "solution": false,
     "task": false
    },
    "tags": []
   },
   "outputs": [],
   "source": [
    "assert df_filled['MonthlyIncome'].count() == 1470"
   ]
  }
 ],
 "metadata": {
  "kernelspec": {
   "display_name": "Python 3 (ipykernel)",
   "language": "python",
   "name": "python3"
  },
  "language_info": {
   "codemirror_mode": {
    "name": "ipython",
    "version": 3
   },
   "file_extension": ".py",
   "mimetype": "text/x-python",
   "name": "python",
   "nbconvert_exporter": "python",
   "pygments_lexer": "ipython3",
   "version": "3.9.12"
  }
 },
 "nbformat": 4,
 "nbformat_minor": 4
}
